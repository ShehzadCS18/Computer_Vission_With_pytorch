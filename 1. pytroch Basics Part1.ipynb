{
 "cells": [
  {
   "cell_type": "code",
   "execution_count": 24,
   "id": "2f1fa1c0",
   "metadata": {},
   "outputs": [],
   "source": [
    "import torch\n",
    "import numpy as np"
   ]
  },
  {
   "cell_type": "markdown",
   "id": "29960dbf",
   "metadata": {},
   "source": [
    "# Find the the version of pytorch"
   ]
  },
  {
   "cell_type": "code",
   "execution_count": 2,
   "id": "f8b3d0b7",
   "metadata": {},
   "outputs": [
    {
     "data": {
      "text/plain": [
       "'2.1.0+cu118'"
      ]
     },
     "execution_count": 2,
     "metadata": {},
     "output_type": "execute_result"
    }
   ],
   "source": [
    "torch.__version__"
   ]
  },
  {
   "cell_type": "markdown",
   "id": "491df054",
   "metadata": {},
   "source": [
    "# Initializing Tensors"
   ]
  },
  {
   "cell_type": "code",
   "execution_count": 3,
   "id": "77512919",
   "metadata": {},
   "outputs": [],
   "source": [
    "x=torch.tensor([1,2])\n",
    "y=torch.tensor([3,4])"
   ]
  },
  {
   "cell_type": "code",
   "execution_count": 4,
   "id": "f87e7e0f",
   "metadata": {},
   "outputs": [
    {
     "name": "stdout",
     "output_type": "stream",
     "text": [
      "tensor([1, 2])\n",
      "tensor([3, 4])\n"
     ]
    }
   ],
   "source": [
    "print(x)\n",
    "print(y)"
   ]
  },
  {
   "cell_type": "code",
   "execution_count": 5,
   "id": "896054eb",
   "metadata": {},
   "outputs": [
    {
     "name": "stdout",
     "output_type": "stream",
     "text": [
      "tensor([[1, 2],\n",
      "        [3, 4]])\n"
     ]
    }
   ],
   "source": [
    "x1=torch.tensor([[1,2],[3,4]])\n",
    "print(x1)"
   ]
  },
  {
   "cell_type": "code",
   "execution_count": 6,
   "id": "e762a2d8",
   "metadata": {},
   "outputs": [
    {
     "name": "stdout",
     "output_type": "stream",
     "text": [
      "torch.Size([2])\n",
      "torch.Size([2])\n",
      "torch.Size([2, 2])\n"
     ]
    }
   ],
   "source": [
    "print(x.shape)\n",
    "print(y.shape)\n",
    "print(x1.shape)"
   ]
  },
  {
   "cell_type": "code",
   "execution_count": 7,
   "id": "48959908",
   "metadata": {},
   "outputs": [
    {
     "name": "stdout",
     "output_type": "stream",
     "text": [
      "<class 'torch.Tensor'>\n",
      "<class 'torch.Tensor'>\n",
      "<class 'torch.Tensor'>\n"
     ]
    }
   ],
   "source": [
    "print(type(x))\n",
    "print(type(y))\n",
    "print(type(x1))"
   ]
  },
  {
   "cell_type": "code",
   "execution_count": 8,
   "id": "b8647ee8",
   "metadata": {},
   "outputs": [
    {
     "name": "stdout",
     "output_type": "stream",
     "text": [
      "torch.int64\n"
     ]
    }
   ],
   "source": [
    "print(x.dtype)"
   ]
  },
  {
   "cell_type": "markdown",
   "id": "e7cef221",
   "metadata": {},
   "source": [
    "The datatype of all the elements in the tensor is the same. if the tensor contains data of different type, the entire tensor is coerced to the most generic type."
   ]
  },
  {
   "cell_type": "code",
   "execution_count": null,
   "id": "93a53b12",
   "metadata": {},
   "outputs": [],
   "source": []
  },
  {
   "cell_type": "markdown",
   "id": "1be97343",
   "metadata": {},
   "source": [
    "# Initializing tensor using Built in functions"
   ]
  },
  {
   "cell_type": "markdown",
   "id": "f23f8de5",
   "metadata": {},
   "source": [
    "# Tensor of zeros"
   ]
  },
  {
   "cell_type": "code",
   "execution_count": 9,
   "id": "ad4aaa0a",
   "metadata": {},
   "outputs": [],
   "source": [
    "zeros=torch.zeros((3,3))"
   ]
  },
  {
   "cell_type": "code",
   "execution_count": 10,
   "id": "4d7bb802",
   "metadata": {},
   "outputs": [
    {
     "data": {
      "text/plain": [
       "tensor([[0., 0., 0.],\n",
       "        [0., 0., 0.],\n",
       "        [0., 0., 0.]])"
      ]
     },
     "execution_count": 10,
     "metadata": {},
     "output_type": "execute_result"
    }
   ],
   "source": [
    "zeros"
   ]
  },
  {
   "cell_type": "code",
   "execution_count": 11,
   "id": "fe09d8c2",
   "metadata": {},
   "outputs": [
    {
     "data": {
      "text/plain": [
       "torch.float32"
      ]
     },
     "execution_count": 11,
     "metadata": {},
     "output_type": "execute_result"
    }
   ],
   "source": [
    "zeros.dtype"
   ]
  },
  {
   "cell_type": "markdown",
   "id": "b9385263",
   "metadata": {},
   "source": [
    "# Tensor of ones"
   ]
  },
  {
   "cell_type": "code",
   "execution_count": 12,
   "id": "c84d3370",
   "metadata": {},
   "outputs": [],
   "source": [
    "ones=torch.ones((3,3))"
   ]
  },
  {
   "cell_type": "code",
   "execution_count": 13,
   "id": "b950fe9f",
   "metadata": {},
   "outputs": [
    {
     "data": {
      "text/plain": [
       "tensor([[1., 1., 1.],\n",
       "        [1., 1., 1.],\n",
       "        [1., 1., 1.]])"
      ]
     },
     "execution_count": 13,
     "metadata": {},
     "output_type": "execute_result"
    }
   ],
   "source": [
    "ones"
   ]
  },
  {
   "cell_type": "code",
   "execution_count": 14,
   "id": "52c251ac",
   "metadata": {},
   "outputs": [
    {
     "name": "stdout",
     "output_type": "stream",
     "text": [
      "torch.float32\n"
     ]
    }
   ],
   "source": [
    "print(ones.dtype\n",
    "     )"
   ]
  },
  {
   "cell_type": "markdown",
   "id": "7339602f",
   "metadata": {},
   "source": [
    "# Creating tensor of random values between a specific range"
   ]
  },
  {
   "cell_type": "markdown",
   "id": "69d1c6f4",
   "metadata": {},
   "source": [
    "torch.randint is user to generate random integer number between a specific range"
   ]
  },
  {
   "cell_type": "code",
   "execution_count": 15,
   "id": "031d5d60",
   "metadata": {},
   "outputs": [],
   "source": [
    "T=torch.randint(low=0,high=10,size=(4,4))"
   ]
  },
  {
   "cell_type": "code",
   "execution_count": 16,
   "id": "7eef6c1d",
   "metadata": {},
   "outputs": [
    {
     "data": {
      "text/plain": [
       "tensor([[1, 3, 1, 1],\n",
       "        [6, 6, 4, 2],\n",
       "        [9, 3, 0, 2],\n",
       "        [2, 7, 9, 3]])"
      ]
     },
     "execution_count": 16,
     "metadata": {},
     "output_type": "execute_result"
    }
   ],
   "source": [
    "T"
   ]
  },
  {
   "cell_type": "code",
   "execution_count": 17,
   "id": "4610178c",
   "metadata": {},
   "outputs": [],
   "source": [
    "T1=torch.randint(low=5,high=20,size=(3,3))"
   ]
  },
  {
   "cell_type": "code",
   "execution_count": 18,
   "id": "6845d6ac",
   "metadata": {},
   "outputs": [
    {
     "data": {
      "text/plain": [
       "tensor([[16, 10,  5],\n",
       "        [ 6,  7,  8],\n",
       "        [19,  7, 17]])"
      ]
     },
     "execution_count": 18,
     "metadata": {},
     "output_type": "execute_result"
    }
   ],
   "source": [
    "T1"
   ]
  },
  {
   "cell_type": "code",
   "execution_count": 19,
   "id": "c6b02343",
   "metadata": {},
   "outputs": [
    {
     "name": "stdout",
     "output_type": "stream",
     "text": [
      "torch.int64\n"
     ]
    }
   ],
   "source": [
    "print(T1.dtype)"
   ]
  },
  {
   "cell_type": "markdown",
   "id": "70fefc48",
   "metadata": {},
   "source": [
    "# Generating random numbers\n",
    "### torch.randn is used to generate random numbers of mean =0 and std=1 (Normal distribution)"
   ]
  },
  {
   "cell_type": "code",
   "execution_count": 20,
   "id": "5286b3ac",
   "metadata": {},
   "outputs": [],
   "source": [
    "T2=torch.randn((3,3))"
   ]
  },
  {
   "cell_type": "code",
   "execution_count": 21,
   "id": "36e45dd9",
   "metadata": {},
   "outputs": [
    {
     "data": {
      "text/plain": [
       "tensor([[ 0.2379, -0.0865, -2.1358],\n",
       "        [-0.5477,  0.8048,  0.3042],\n",
       "        [ 0.4882, -0.2345,  1.2881]])"
      ]
     },
     "execution_count": 21,
     "metadata": {},
     "output_type": "execute_result"
    }
   ],
   "source": [
    "T2"
   ]
  },
  {
   "cell_type": "markdown",
   "id": "aa04490f",
   "metadata": {},
   "source": [
    "# Generating number numbers\n",
    "### torch.rand is used to generate a sample from uniform normal distribution of range (0,1)\n"
   ]
  },
  {
   "cell_type": "code",
   "execution_count": 22,
   "id": "00dbc681",
   "metadata": {},
   "outputs": [],
   "source": [
    "T3= torch.rand(3,4)"
   ]
  },
  {
   "cell_type": "code",
   "execution_count": 23,
   "id": "2d6a2c6e",
   "metadata": {},
   "outputs": [
    {
     "data": {
      "text/plain": [
       "tensor([[0.0448, 0.4760, 0.2592, 0.5926],\n",
       "        [0.4294, 0.1544, 0.5747, 0.7675],\n",
       "        [0.0851, 0.2915, 0.1072, 0.5465]])"
      ]
     },
     "execution_count": 23,
     "metadata": {},
     "output_type": "execute_result"
    }
   ],
   "source": [
    "T3"
   ]
  },
  {
   "cell_type": "markdown",
   "id": "fa34bd9e",
   "metadata": {},
   "source": [
    "# numpy array to torch tensor"
   ]
  },
  {
   "cell_type": "code",
   "execution_count": 25,
   "id": "58a98665",
   "metadata": {},
   "outputs": [],
   "source": [
    "x=np.array([[1,2,3,4,5],[6,7,8,9,10]])"
   ]
  },
  {
   "cell_type": "code",
   "execution_count": 26,
   "id": "0c06b49a",
   "metadata": {},
   "outputs": [],
   "source": [
    "Y=torch.tensor(x)"
   ]
  },
  {
   "cell_type": "code",
   "execution_count": 28,
   "id": "7d1beafe",
   "metadata": {},
   "outputs": [
    {
     "name": "stdout",
     "output_type": "stream",
     "text": [
      "int32 torch.int32\n",
      "<class 'numpy.ndarray'>\n",
      "<class 'torch.Tensor'>\n"
     ]
    }
   ],
   "source": [
    "print(x.dtype, Y.dtype)\n",
    "print(type(x))\n",
    "print(type(Y))"
   ]
  },
  {
   "cell_type": "markdown",
   "id": "ff1f8cee",
   "metadata": {},
   "source": [
    "# operations on tensor"
   ]
  },
  {
   "cell_type": "code",
   "execution_count": 29,
   "id": "1a740a27",
   "metadata": {},
   "outputs": [],
   "source": [
    "x=torch.tensor([[1,2,3,4,5],[6,7,8,9,10]])"
   ]
  },
  {
   "cell_type": "code",
   "execution_count": 30,
   "id": "c9ec7300",
   "metadata": {},
   "outputs": [
    {
     "name": "stdout",
     "output_type": "stream",
     "text": [
      "tensor([[ 20,  40,  60,  80, 100],\n",
      "        [120, 140, 160, 180, 200]])\n"
     ]
    }
   ],
   "source": [
    "print(x*20)"
   ]
  },
  {
   "cell_type": "code",
   "execution_count": 31,
   "id": "5566659f",
   "metadata": {},
   "outputs": [
    {
     "name": "stdout",
     "output_type": "stream",
     "text": [
      "tensor([[31, 32, 33, 34, 35],\n",
      "        [36, 37, 38, 39, 40]])\n"
     ]
    }
   ],
   "source": [
    "print(x.add(30))"
   ]
  },
  {
   "cell_type": "markdown",
   "id": "faed1036",
   "metadata": {},
   "source": [
    "# Element wise addition and element wise multiplication on tensors\n",
    "### tensor1*tensor2 will perform element wise multiplication , corresponding element will be multiplied with corresponding element"
   ]
  },
  {
   "cell_type": "code",
   "execution_count": 36,
   "id": "ed47c50d",
   "metadata": {},
   "outputs": [
    {
     "name": "stdout",
     "output_type": "stream",
     "text": [
      "tensor([[0.1719, 0.1221, 0.7725],\n",
      "        [0.1035, 0.9690, 0.1669],\n",
      "        [0.9629, 0.5059, 0.7678]])\n",
      "tensor([[0.2401, 0.5897, 0.3494],\n",
      "        [0.1819, 0.2941, 0.0674],\n",
      "        [0.0624, 0.5453, 0.5035]])\n",
      "tensor([[0.0413, 0.0720, 0.2699],\n",
      "        [0.0188, 0.2850, 0.0112],\n",
      "        [0.0601, 0.2759, 0.3866]])\n",
      "tensor([[0.4119, 0.7118, 1.1219],\n",
      "        [0.2854, 1.2631, 0.2342],\n",
      "        [1.0253, 1.0512, 1.2713]])\n"
     ]
    }
   ],
   "source": [
    "x1=torch.rand(3,3)\n",
    "y1=torch.rand(3,3)\n",
    "print(x1)\n",
    "print(y1)\n",
    "print(x1*y1)\n",
    "print(x1+y1)"
   ]
  },
  {
   "cell_type": "markdown",
   "id": "f0fa8365",
   "metadata": {},
   "source": [
    "# Matrix multiplication and matrix addition"
   ]
  },
  {
   "cell_type": "code",
   "execution_count": 40,
   "id": "b28fd193",
   "metadata": {},
   "outputs": [
    {
     "name": "stdout",
     "output_type": "stream",
     "text": [
      "matrix multiplication tensor([[1.3009, 0.3311],\n",
      "        [0.6172, 0.1144]])\n",
      "element wise multiplication tensor([[0.8376, 0.0547],\n",
      "        [0.4597, 0.0601]])\n"
     ]
    }
   ],
   "source": [
    "x1=torch.rand(2,2)\n",
    "y1=torch.rand(2,2)\n",
    "\n",
    "multiplication=torch.matmul(x1,y1)\n",
    "print(\"matrix multiplication\",multiplication)\n",
    "print(\"element wise multiplication\", x1*y1)"
   ]
  },
  {
   "cell_type": "code",
   "execution_count": 44,
   "id": "16e24c8b",
   "metadata": {},
   "outputs": [
    {
     "name": "stdout",
     "output_type": "stream",
     "text": [
      "matrix multiplication tensor([[0.4260],\n",
      "        [0.2497]])\n",
      "shape of matmul torch.Size([2, 1])\n",
      "element wise multiplication tensor([[0.2438, 0.0805],\n",
      "        [0.4297, 0.0598]])\n",
      "shape of elementwise_multi torch.Size([2, 2])\n"
     ]
    }
   ],
   "source": [
    "\"\"\"\n",
    "in the following example the rules for matrix multiplication is stasfied hence matrxi multiplication will be performed. but in\n",
    "in the context of element wise multiplication y1 will be braodcasted to match the dimensions of x1 and hence multiplied element wise\n",
    "\n",
    "\"\"\"\n",
    "\n",
    "x1=torch.rand(2,2)\n",
    "y1=torch.rand(2,1)\n",
    "\n",
    "multiplication=torch.matmul(x1,y1)\n",
    "elmentwise_multi=x1*y1\n",
    "print(\"matrix multiplication\",multiplication)\n",
    "print(\"shape of matmul\", multiplication.shape)\n",
    "print(\"element wise multiplication\", elmentwise_multi)\n",
    "print(\"shape of elementwise_multi\", elmentwise_multi.shape)"
   ]
  },
  {
   "cell_type": "markdown",
   "id": "67bc9c15",
   "metadata": {},
   "source": [
    "# Reshaping Tensor\n",
    "### 1. view  ---> reshape a tensor to the specified shape without changing the data\n",
    "### 2. Squeeze----> remone the dimension with size 1, reuduce the dimension of the tensor"
   ]
  },
  {
   "cell_type": "code",
   "execution_count": 49,
   "id": "89a9b869",
   "metadata": {},
   "outputs": [
    {
     "name": "stdout",
     "output_type": "stream",
     "text": [
      "tensor([1, 2, 3, 4, 5, 6])\n",
      "torch.Size([6])\n",
      "tensor([[1],\n",
      "        [2],\n",
      "        [3],\n",
      "        [4],\n",
      "        [5],\n",
      "        [6]])\n",
      "torch.Size([6, 1])\n",
      "tensor([[1, 2, 3],\n",
      "        [4, 5, 6]])\n",
      "torch.Size([2, 3])\n"
     ]
    }
   ],
   "source": [
    "tensor=torch.tensor([1,2,3,4,5,6])\n",
    "print(tensor)\n",
    "print(tensor.shape)\n",
    "tensor=tensor.view((6,1))\n",
    "print(tensor)\n",
    "print(tensor.shape)\n",
    "\n",
    "tensor=tensor.view((2,3))\n",
    "print(tensor)\n",
    "print(tensor.shape)"
   ]
  },
  {
   "cell_type": "code",
   "execution_count": 52,
   "id": "f594d735",
   "metadata": {},
   "outputs": [
    {
     "name": "stdout",
     "output_type": "stream",
     "text": [
      "torch.Size([10, 1, 10])\n"
     ]
    }
   ],
   "source": [
    "#squeeze\n",
    "x=torch.randn(10,1,10)\n",
    "# print(x)\n",
    "print(x.shape)"
   ]
  },
  {
   "cell_type": "code",
   "execution_count": 53,
   "id": "f67f539f",
   "metadata": {},
   "outputs": [],
   "source": [
    "x=torch.squeeze(x,1)"
   ]
  },
  {
   "cell_type": "code",
   "execution_count": 54,
   "id": "dca5e062",
   "metadata": {},
   "outputs": [
    {
     "name": "stdout",
     "output_type": "stream",
     "text": [
      "torch.Size([10, 10])\n"
     ]
    }
   ],
   "source": [
    "print(x.shape)"
   ]
  },
  {
   "cell_type": "code",
   "execution_count": 55,
   "id": "cd1e8f8e",
   "metadata": {},
   "outputs": [
    {
     "name": "stdout",
     "output_type": "stream",
     "text": [
      "torch.Size([10, 1, 10])\n"
     ]
    }
   ],
   "source": [
    "#squeeze\n",
    "x=torch.randn(10,1,10)\n",
    "# print(x)\n",
    "print(x.shape)\n",
    "x=x.squeeze(1)"
   ]
  },
  {
   "cell_type": "code",
   "execution_count": 56,
   "id": "a46ae2d0",
   "metadata": {},
   "outputs": [
    {
     "data": {
      "text/plain": [
       "torch.Size([10, 10])"
      ]
     },
     "execution_count": 56,
     "metadata": {},
     "output_type": "execute_result"
    }
   ],
   "source": [
    "x.shape"
   ]
  },
  {
   "cell_type": "code",
   "execution_count": null,
   "id": "8b4bc109",
   "metadata": {},
   "outputs": [],
   "source": []
  }
 ],
 "metadata": {
  "kernelspec": {
   "display_name": "Python 3 (ipykernel)",
   "language": "python",
   "name": "python3"
  },
  "language_info": {
   "codemirror_mode": {
    "name": "ipython",
    "version": 3
   },
   "file_extension": ".py",
   "mimetype": "text/x-python",
   "name": "python",
   "nbconvert_exporter": "python",
   "pygments_lexer": "ipython3",
   "version": "3.8.18"
  }
 },
 "nbformat": 4,
 "nbformat_minor": 5
}
